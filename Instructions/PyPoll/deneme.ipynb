{
 "cells": [
  {
   "cell_type": "code",
   "execution_count": 5,
   "metadata": {},
   "outputs": [
    {
     "name": "stdout",
     "output_type": "stream",
     "text": [
      "Election Results\n",
      "Total Votes :  3521001\n",
      "-----------------------------------\n",
      "Khan: 20.00% (704200)\n",
      "Correy: 63.00% (2218231)\n",
      "Li: 14.00% (492940)\n",
      "O'Tooley: 3.00% (105630)\n",
      "-------------------------------------\n",
      "Winner :  Khan\n"
     ]
    }
   ],
   "source": [
    "import pandas as pd\n",
    "file = \"Resources/election_data.csv\"\n",
    "data = pd.read_csv(file)\n",
    "\n",
    "\n",
    "\n",
    "Total = int(data.index.size)\n",
    "print(\"Election Results\")\n",
    "print(\"Total Votes : \", str(Total))\n",
    "print(\"-----------------------------------\")\n",
    "\n",
    "\n",
    "candi_name = data[\"Candidate\"].unique()\n",
    "candi_name # get candidate name \n",
    "candi_count = data.groupby(\"Candidate\")\n",
    "candidate_count = candi_count.agg({'Voter ID':\"count\"})[\"Voter ID\"].tolist()\n",
    "\n",
    "percentage = []\n",
    "for i in range(len(candidate_count)):\n",
    "    percentage.append((candidate_count[i]/Total))\n",
    "lst = []\n",
    "for i in range(len(candidate_count)):\n",
    "    x= candi_name[i] + \": \" + str(\"{:.2%}\".format(percentage[i])) + \" (\" + str(candidate_count[i]) + \")\"\n",
    "    print(x)\n",
    "    lst.append(x)\n",
    "\n",
    "\n",
    "candidate_winner = candi_count.agg({'Voter ID':\"count\"}).sort_values(by = \"Voter ID\", ascending=False )\n",
    "\n",
    "print(\"-------------------------------------\")\n",
    "print(\"Winner : \", candidate_winner.index[0])\n",
    "\n",
    "f = open(\"Output_analysis.txt\" , \"w\")\n",
    "f.write(\"Election Results\"+ \"\\n\")\n",
    "f.write(\"Total Votes : \"+ str(Total) + \"\\n\")\n",
    "f.write(\"-------------------------------------\"+ \"\\n\")\n",
    "f.write(lst[0] + \"\\n\")\n",
    "f.write(lst[1] + \"\\n\")\n",
    "f.write(lst[2] + \"\\n\")\n",
    "f.write(lst[3] + \"\\n\")\n",
    "f.write(\"-------------------------------------\" + \"\\n\")\n",
    "f.write(\"Winner : \"+ candidate_winner.index[0] + \"\\n\")\n",
    "f.close()"
   ]
  }
 ],
 "metadata": {
  "kernelspec": {
   "display_name": "Python 3",
   "language": "python",
   "name": "python3"
  },
  "language_info": {
   "codemirror_mode": {
    "name": "ipython",
    "version": 3
   },
   "file_extension": ".py",
   "mimetype": "text/x-python",
   "name": "python",
   "nbconvert_exporter": "python",
   "pygments_lexer": "ipython3",
   "version": "3.7.4"
  }
 },
 "nbformat": 4,
 "nbformat_minor": 2
}
