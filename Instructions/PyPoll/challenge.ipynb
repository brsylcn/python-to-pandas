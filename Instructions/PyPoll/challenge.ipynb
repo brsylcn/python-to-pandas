{
 "cells": [
  {
   "cell_type": "code",
   "execution_count": 1,
   "metadata": {},
   "outputs": [
    {
     "data": {
      "text/html": [
       "<div>\n",
       "<style scoped>\n",
       "    .dataframe tbody tr th:only-of-type {\n",
       "        vertical-align: middle;\n",
       "    }\n",
       "\n",
       "    .dataframe tbody tr th {\n",
       "        vertical-align: top;\n",
       "    }\n",
       "\n",
       "    .dataframe thead th {\n",
       "        text-align: right;\n",
       "    }\n",
       "</style>\n",
       "<table border=\"1\" class=\"dataframe\">\n",
       "  <thead>\n",
       "    <tr style=\"text-align: right;\">\n",
       "      <th></th>\n",
       "      <th>Voter ID</th>\n",
       "      <th>County</th>\n",
       "      <th>Candidate</th>\n",
       "    </tr>\n",
       "  </thead>\n",
       "  <tbody>\n",
       "    <tr>\n",
       "      <td>0</td>\n",
       "      <td>12864552</td>\n",
       "      <td>Marsh</td>\n",
       "      <td>Khan</td>\n",
       "    </tr>\n",
       "    <tr>\n",
       "      <td>1</td>\n",
       "      <td>17444633</td>\n",
       "      <td>Marsh</td>\n",
       "      <td>Correy</td>\n",
       "    </tr>\n",
       "    <tr>\n",
       "      <td>2</td>\n",
       "      <td>19330107</td>\n",
       "      <td>Marsh</td>\n",
       "      <td>Khan</td>\n",
       "    </tr>\n",
       "    <tr>\n",
       "      <td>3</td>\n",
       "      <td>19865775</td>\n",
       "      <td>Queen</td>\n",
       "      <td>Khan</td>\n",
       "    </tr>\n",
       "    <tr>\n",
       "      <td>4</td>\n",
       "      <td>11927875</td>\n",
       "      <td>Marsh</td>\n",
       "      <td>Khan</td>\n",
       "    </tr>\n",
       "  </tbody>\n",
       "</table>\n",
       "</div>"
      ],
      "text/plain": [
       "   Voter ID County Candidate\n",
       "0  12864552  Marsh      Khan\n",
       "1  17444633  Marsh    Correy\n",
       "2  19330107  Marsh      Khan\n",
       "3  19865775  Queen      Khan\n",
       "4  11927875  Marsh      Khan"
      ]
     },
     "execution_count": 1,
     "metadata": {},
     "output_type": "execute_result"
    }
   ],
   "source": [
    "import pandas as pd\n",
    "import numpy as np\n",
    "\n",
    "\n",
    "\n",
    "file = \"Resources/election_data.csv\"\n",
    "\n",
    "\n",
    "election_data = pd.read_csv(file)\n",
    "\n",
    "election_data.head()\n"
   ]
  },
  {
   "cell_type": "code",
   "execution_count": 2,
   "metadata": {},
   "outputs": [
    {
     "data": {
      "text/plain": [
       "3521001"
      ]
     },
     "execution_count": 2,
     "metadata": {},
     "output_type": "execute_result"
    }
   ],
   "source": [
    "total_number_votes = len(election_data[\"Voter ID\"])\n",
    "\n",
    "total_number_votes"
   ]
  },
  {
   "cell_type": "code",
   "execution_count": 3,
   "metadata": {},
   "outputs": [
    {
     "data": {
      "text/plain": [
       "array(['Khan', 'Correy', 'Li', \"O'Tooley\"], dtype=object)"
      ]
     },
     "execution_count": 3,
     "metadata": {},
     "output_type": "execute_result"
    }
   ],
   "source": [
    "candidates = election_data[\"Candidate\"].unique()\n",
    "\n",
    "candidates"
   ]
  },
  {
   "cell_type": "markdown",
   "metadata": {},
   "source": [
    "old school way but efficient\n",
    "\n",
    "khan = election_data.loc[election_data[\"Candidate\"] == \"Khan\"]\n",
    "\n",
    "len(khan)"
   ]
  },
  {
   "cell_type": "code",
   "execution_count": 4,
   "metadata": {},
   "outputs": [
    {
     "data": {
      "text/plain": [
       "Candidate\n",
       "Correy       704200\n",
       "Khan        2218231\n",
       "Li           492940\n",
       "O'Tooley     105630\n",
       "Name: Voter ID, dtype: int64"
      ]
     },
     "execution_count": 4,
     "metadata": {},
     "output_type": "execute_result"
    }
   ],
   "source": [
    "grouped_candidate = election_data.groupby(['Candidate'])\n",
    "\n",
    "candidate_count = grouped_candidate.agg({'Voter ID':\"count\"})[\"Voter ID\"]\n",
    "\n",
    "candidate_count"
   ]
  },
  {
   "cell_type": "code",
   "execution_count": 5,
   "metadata": {},
   "outputs": [
    {
     "name": "stdout",
     "output_type": "stream",
     "text": [
      "Khan: 20.00% (704200)\n",
      "Correy: 63.00% (2218231)\n",
      "Li: 14.00% (492940)\n",
      "O'Tooley: 3.00% (105630)\n"
     ]
    }
   ],
   "source": [
    "percentage = []\n",
    "\n",
    "for vote in range(len(candidate_count)):\n",
    "    \n",
    "    percentage.append((candidate_count[vote]/total_number_votes))\n",
    "    \n",
    "    \n",
    "\n",
    "lst = []\n",
    "\n",
    "for vote in range(len(candidate_count)):\n",
    "    \n",
    "    x= candidates[vote] + \": \" + str(\"{:.2%}\".format(percentage[vote])) + \" (\" + str(candidate_count[vote]) + \")\"\n",
    "    \n",
    "    print(x)\n",
    "    \n",
    "    lst.append(x)"
   ]
  },
  {
   "cell_type": "code",
   "execution_count": 6,
   "metadata": {},
   "outputs": [
    {
     "data": {
      "text/plain": [
       "'Khan'"
      ]
     },
     "execution_count": 6,
     "metadata": {},
     "output_type": "execute_result"
    }
   ],
   "source": [
    "candidate_winner = grouped_candidate.agg({'Voter ID':\"count\"}).sort_values(by = \"Voter ID\", ascending=False )\n",
    "\n",
    "candidate_winner.index[0]"
   ]
  },
  {
   "cell_type": "code",
   "execution_count": null,
   "metadata": {},
   "outputs": [],
   "source": []
  },
  {
   "cell_type": "markdown",
   "metadata": {},
   "source": [
    "f = open(\"Output_analysis.txt\" , \"w\")\n",
    "f.write(\"Election Results\"+ \"\\n\")\n",
    "f.write(\"Total Votes : \"+ str(Total) + \"\\n\")\n",
    "f.write(\"-------------------------------------\"+ \"\\n\")\n",
    "f.write(lst[0] + \"\\n\")\n",
    "f.write(lst[1] + \"\\n\")\n",
    "f.write(lst[2] + \"\\n\")\n",
    "f.write(lst[3] + \"\\n\")\n",
    "f.write(\"-------------------------------------\" + \"\\n\")\n",
    "f.write(\"Winner : \"+ candidate_winner.index[0] + \"\\n\")\n",
    "f.close()"
   ]
  }
 ],
 "metadata": {
  "kernelspec": {
   "display_name": "Python 3",
   "language": "python",
   "name": "python3"
  },
  "language_info": {
   "codemirror_mode": {
    "name": "ipython",
    "version": 3
   },
   "file_extension": ".py",
   "mimetype": "text/x-python",
   "name": "python",
   "nbconvert_exporter": "python",
   "pygments_lexer": "ipython3",
   "version": "3.7.4"
  }
 },
 "nbformat": 4,
 "nbformat_minor": 2
}
