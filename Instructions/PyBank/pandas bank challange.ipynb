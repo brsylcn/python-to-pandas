{
 "cells": [
  {
   "cell_type": "code",
   "execution_count": 1,
   "metadata": {},
   "outputs": [
    {
     "data": {
      "text/html": [
       "<div>\n",
       "<style scoped>\n",
       "    .dataframe tbody tr th:only-of-type {\n",
       "        vertical-align: middle;\n",
       "    }\n",
       "\n",
       "    .dataframe tbody tr th {\n",
       "        vertical-align: top;\n",
       "    }\n",
       "\n",
       "    .dataframe thead th {\n",
       "        text-align: right;\n",
       "    }\n",
       "</style>\n",
       "<table border=\"1\" class=\"dataframe\">\n",
       "  <thead>\n",
       "    <tr style=\"text-align: right;\">\n",
       "      <th></th>\n",
       "      <th>Date</th>\n",
       "      <th>Profit/Losses</th>\n",
       "    </tr>\n",
       "  </thead>\n",
       "  <tbody>\n",
       "    <tr>\n",
       "      <td>0</td>\n",
       "      <td>Jan-2010</td>\n",
       "      <td>867884</td>\n",
       "    </tr>\n",
       "    <tr>\n",
       "      <td>1</td>\n",
       "      <td>Feb-2010</td>\n",
       "      <td>984655</td>\n",
       "    </tr>\n",
       "    <tr>\n",
       "      <td>2</td>\n",
       "      <td>Mar-2010</td>\n",
       "      <td>322013</td>\n",
       "    </tr>\n",
       "    <tr>\n",
       "      <td>3</td>\n",
       "      <td>Apr-2010</td>\n",
       "      <td>-69417</td>\n",
       "    </tr>\n",
       "    <tr>\n",
       "      <td>4</td>\n",
       "      <td>May-2010</td>\n",
       "      <td>310503</td>\n",
       "    </tr>\n",
       "  </tbody>\n",
       "</table>\n",
       "</div>"
      ],
      "text/plain": [
       "       Date  Profit/Losses\n",
       "0  Jan-2010         867884\n",
       "1  Feb-2010         984655\n",
       "2  Mar-2010         322013\n",
       "3  Apr-2010         -69417\n",
       "4  May-2010         310503"
      ]
     },
     "execution_count": 1,
     "metadata": {},
     "output_type": "execute_result"
    }
   ],
   "source": [
    "import pandas as pd\n",
    "import numpy as np\n",
    "import locale\n",
    "import sqlalchemy as sa\n",
    "\n",
    "file = \"Resources/budget_data.csv\"\n",
    "\n",
    "budget_data = pd.read_csv(file)\n",
    "\n",
    "budget_data.head()"
   ]
  },
  {
   "cell_type": "code",
   "execution_count": 2,
   "metadata": {},
   "outputs": [
    {
     "data": {
      "text/plain": [
       "86"
      ]
     },
     "execution_count": 2,
     "metadata": {},
     "output_type": "execute_result"
    }
   ],
   "source": [
    "#grouped = budget_data.groupby(['Date'])\n",
    "\n",
    "#grouped.head()\n",
    "\n",
    "len(budget_data[\"Date\"])"
   ]
  },
  {
   "cell_type": "code",
   "execution_count": 3,
   "metadata": {},
   "outputs": [],
   "source": [
    "total_months = budget_data[\"Date\"].count()\n",
    "\n",
    "# total_months\n",
    "\n",
    "profit_losses = budget_data[\"Profit/Losses\"].sum()\n",
    "\n",
    "# profit_losses\n",
    "\n",
    "profit_losses_list = budget_data[\"Profit/Losses\"].tolist()\n",
    "\n",
    "#profit_losses_list"
   ]
  },
  {
   "cell_type": "code",
   "execution_count": 4,
   "metadata": {},
   "outputs": [
    {
     "data": {
      "text/plain": [
       "-2315.12"
      ]
     },
     "execution_count": 4,
     "metadata": {},
     "output_type": "execute_result"
    }
   ],
   "source": [
    "av_ch_list = []\n",
    "\n",
    "Average_Change_List_Org = []\n",
    "\n",
    "for i in range (1, 86):\n",
    "    \n",
    "    av_ch = profit_losses_list[i] - profit_losses_list[i-1]\n",
    "    \n",
    "    av_ch_list.append(av_ch)\n",
    "    \n",
    "    Average_Change_List_Org.append(av_ch)\n",
    "    \n",
    "ave_change = sum(av_ch_list) / len(av_ch_list)\n",
    "\n",
    "round(ave_change, 2) = ave_change_2"
   ]
  },
  {
   "cell_type": "code",
   "execution_count": 5,
   "metadata": {},
   "outputs": [],
   "source": [
    "av_ch_list.sort()"
   ]
  },
  {
   "cell_type": "code",
   "execution_count": 6,
   "metadata": {},
   "outputs": [
    {
     "data": {
      "text/plain": [
       "1926159"
      ]
     },
     "execution_count": 6,
     "metadata": {},
     "output_type": "execute_result"
    }
   ],
   "source": [
    "decrease = av_ch_list[0]\n",
    "\n",
    "increase = av_ch_list[84]\n",
    "\n",
    "#decrease\n",
    "increase"
   ]
  },
  {
   "cell_type": "code",
   "execution_count": 8,
   "metadata": {},
   "outputs": [
    {
     "data": {
      "text/plain": [
       "'Feb-2012'"
      ]
     },
     "execution_count": 8,
     "metadata": {},
     "output_type": "execute_result"
    }
   ],
   "source": [
    "min_index = Average_Change_List_Org.index(decrease) + 1\n",
    "max_index = Average_Change_List_Org.index(increase) + 1\n",
    "\n",
    "\n",
    "Gr_Dec_Month = budget_data['Date'][min_index]\n",
    "Gr_Inc_Month = budget_data['Date'][max_index]"
   ]
  },
  {
   "cell_type": "code",
   "execution_count": 14,
   "metadata": {
    "scrolled": true
   },
   "outputs": [
    {
     "name": "stdout",
     "output_type": "stream",
     "text": [
      "Financial Analysis\n",
      "----------------------------------\n",
      "Total Months: 86\n",
      "Total: $38382578\n",
      "Average  Change: $-2315\n",
      "Greatest Increase in Profits: $1926159 (Sep-2013)\n",
      "Greatest Decrease in Profits: $-2196167 (Feb-2012)\n"
     ]
    }
   ],
   "source": [
    "print('Financial Analysis')\n",
    "print('----------------------------------')\n",
    "print(f'Total Months: {total_months}')\n",
    "print(f'Total: ${round(profit_losses)}')\n",
    "print(f'Average  Change: ${round(ave_change)}')\n",
    "print(f'Greatest Increase in Profits: ${increase} ({Gr_Dec_Month})')\n",
    "print(f'Greatest Decrease in Profits: ${decrease} ({Gr_Inc_Month})')"
   ]
  },
  {
   "cell_type": "code",
   "execution_count": 15,
   "metadata": {},
   "outputs": [],
   "source": [
    "file = open('pybank.txt','a')\n",
    "\n",
    "file.write('Financial Analysis\\n')\n",
    "file.write('----------------------------------\\n')\n",
    "file.write(f'Total Months: {total_months}\\n')\n",
    "file.write(f'Total: ${round(profit_losses)}\\n')\n",
    "file.write(f'Average  Change: ${round(ave_change)}\\n')\n",
    "file.write(f'Greatest Increase in Profits: ${increase} ({Gr_Dec_Month})\\n')\n",
    "file.write(f'Greatest Decrease in Profits: ${decrease} ({Gr_Inc_Month})\\n')\n",
    "file.close()\n"
   ]
  }
 ],
 "metadata": {
  "kernelspec": {
   "display_name": "Python 3",
   "language": "python",
   "name": "python3"
  },
  "language_info": {
   "codemirror_mode": {
    "name": "ipython",
    "version": 3
   },
   "file_extension": ".py",
   "mimetype": "text/x-python",
   "name": "python",
   "nbconvert_exporter": "python",
   "pygments_lexer": "ipython3",
   "version": "3.7.4"
  }
 },
 "nbformat": 4,
 "nbformat_minor": 2
}
